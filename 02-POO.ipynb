{
 "cells": [
  {
   "cell_type": "markdown",
   "metadata": {},
   "source": [
    "# Programmation Orienté Objet (POO) en Scala"
   ]
  },
  {
   "cell_type": "markdown",
   "metadata": {},
   "source": [
    "### Rappel\n",
    "\n",
    "Les classes et les objets sont les composants fondamentaux de la programation orientée objet.\n",
    "\n",
    "Le concept d’utilisation de **classes** et d’**objets** consiste à encapsuler l’état et le comportement dans une seule unité de programmation. Les objets sont similaires aux objets du monde réel. Par exemple, nous pouvons créer un objet voiture, qui aura des propriétés telles que la vitesse et la couleur; et un comportement comme: accélérer et freiner.  "
   ]
  },
  {
   "cell_type": "markdown",
   "metadata": {},
   "source": [
    "![](images/oo.png)"
   ]
  },
  {
   "cell_type": "raw",
   "metadata": {},
   "source": [
    "class Voiture(id : Long, marque : String, vitesse : Float, colour : String){\n",
    "    \n",
    "    def demarrer(){\n",
    "      // ...\n",
    "    }\n",
    "    def accelerer(){\n",
    "    // ...\n",
    "    }\n",
    "    def arreter(){\n",
    "    // ...\n",
    "    }\n",
    "    \n",
    "    def getVitesse(): Float = vitesse\n",
    "  \n",
    "    def getMarque(): String = marque \n",
    "    \n",
    "    def getCouleur(): String = couleur\n",
    "    \n",
    "    // autres methodes\n",
    "    ...\n",
    "    \n",
    "}"
   ]
  },
  {
   "cell_type": "markdown",
   "metadata": {},
   "source": [
    "### Definir une classe"
   ]
  },
  {
   "cell_type": "markdown",
   "metadata": {},
   "source": [
    "Création d'une classe vide"
   ]
  },
  {
   "cell_type": "code",
   "execution_count": 1,
   "metadata": {},
   "outputs": [
    {
     "data": {
      "text/plain": [
       "defined \u001b[32mclass\u001b[39m \u001b[36mUser\u001b[39m"
      ]
     },
     "execution_count": 1,
     "metadata": {},
     "output_type": "execute_result"
    }
   ],
   "source": [
    "class User"
   ]
  },
  {
   "cell_type": "markdown",
   "metadata": {},
   "source": [
    "Instanciation d'un objet de la classe User avec **new**"
   ]
  },
  {
   "cell_type": "code",
   "execution_count": 2,
   "metadata": {},
   "outputs": [
    {
     "data": {
      "text/plain": [
       "\u001b[36muser1\u001b[39m: \u001b[32mUser\u001b[39m = ammonite.$sess.cmd0$Helper$User@f12b195"
      ]
     },
     "execution_count": 2,
     "metadata": {},
     "output_type": "execute_result"
    }
   ],
   "source": [
    "val user1 = new User"
   ]
  },
  {
   "cell_type": "code",
   "execution_count": 3,
   "metadata": {},
   "outputs": [
    {
     "data": {
      "text/plain": [
       "\u001b[36mres2\u001b[39m: \u001b[32mUser\u001b[39m = ammonite.$sess.cmd0$Helper$User@f12b195"
      ]
     },
     "execution_count": 3,
     "metadata": {},
     "output_type": "execute_result"
    }
   ],
   "source": [
    "user1"
   ]
  },
  {
   "cell_type": "markdown",
   "metadata": {},
   "source": [
    "#### classe Point"
   ]
  },
  {
   "cell_type": "markdown",
   "metadata": {},
   "source": [
    "Création de la classe Point avec un constructeur qui a deux argument, les données membres sont accessibles et modifialbes grace au mot clé **var**. Le mot-clé **override** nous permet de surcharger la methode **toString** de la classe mère **Object**."
   ]
  },
  {
   "cell_type": "code",
   "execution_count": 4,
   "metadata": {},
   "outputs": [
    {
     "data": {
      "text/plain": [
       "defined \u001b[32mclass\u001b[39m \u001b[36mPoint\u001b[39m"
      ]
     },
     "execution_count": 4,
     "metadata": {},
     "output_type": "execute_result"
    }
   ],
   "source": [
    "class Point(var x: Int, var y: Int) {\n",
    "\n",
    "  def move(dx: Int, dy: Int): Unit = {\n",
    "    x = x + dx\n",
    "    y = y + dy\n",
    "  }\n",
    "\n",
    "  override def toString: String =\n",
    "    s\"($x, $y)\"\n",
    "}"
   ]
  },
  {
   "cell_type": "code",
   "execution_count": 5,
   "metadata": {},
   "outputs": [
    {
     "name": "stdout",
     "output_type": "stream",
     "text": [
      "2\n",
      "(5, 9)\n"
     ]
    },
    {
     "data": {
      "text/plain": [
       "\u001b[36mp1\u001b[39m: \u001b[32mPoint\u001b[39m = (2, 3)\n",
       "\u001b[36mp2\u001b[39m: \u001b[32mPoint\u001b[39m = (5, 9)"
      ]
     },
     "execution_count": 5,
     "metadata": {},
     "output_type": "execute_result"
    }
   ],
   "source": [
    "val p1 = new Point(2, 3)\n",
    "val p2 = new Point(5, 9)\n",
    "println(p1.x)\n",
    "println(p2)"
   ]
  },
  {
   "cell_type": "markdown",
   "metadata": {},
   "source": [
    "**Erreur de compilation de compilation**: Pas de constructeur avec un seul argument"
   ]
  },
  {
   "cell_type": "code",
   "execution_count": 5,
   "metadata": {},
   "outputs": [
    {
     "name": "stderr",
     "output_type": "stream",
     "text": [
      "cmd5.sc:1: not enough arguments for constructor Point: (x: Int, y: Int): cmd5.this.cmd3.Point.\n",
      "Unspecified value parameter y.\n",
      "val p3 = new Point(2)\n",
      "         ^Compilation Failed"
     ]
    },
    {
     "ename": "",
     "evalue": "",
     "output_type": "error",
     "traceback": [
      "Compilation Failed"
     ]
    }
   ],
   "source": [
    "val p3 = new Point(2)"
   ]
  },
  {
   "cell_type": "markdown",
   "metadata": {},
   "source": [
    "### Constructeurs"
   ]
  },
  {
   "cell_type": "markdown",
   "metadata": {},
   "source": [
    "Création de la classe Point avec un constructeur ayant des valeurs par défaut."
   ]
  },
  {
   "cell_type": "code",
   "execution_count": 6,
   "metadata": {},
   "outputs": [
    {
     "name": "stdout",
     "output_type": "stream",
     "text": [
      "p1.x = 1\n"
     ]
    },
    {
     "data": {
      "text/plain": [
       "defined \u001b[32mclass\u001b[39m \u001b[36mPoint\u001b[39m\n",
       "\u001b[36mp0\u001b[39m: \u001b[32mPoint\u001b[39m = ammonite.$sess.cmd5$Helper$Point@4f02b1ae\n",
       "\u001b[36mp1\u001b[39m: \u001b[32mPoint\u001b[39m = ammonite.$sess.cmd5$Helper$Point@681ab3c7"
      ]
     },
     "execution_count": 6,
     "metadata": {},
     "output_type": "execute_result"
    }
   ],
   "source": [
    "class Point(var x: Int = 0, var y: Int = 0)\n",
    "\n",
    "val p0 = new Point  \n",
    "val p1 = new Point(1) // par 1 sera par defaut affecté à x\n",
    "println(\"p1.x = \" + p1.x) "
   ]
  },
  {
   "cell_type": "code",
   "execution_count": 7,
   "metadata": {},
   "outputs": [
    {
     "name": "stdout",
     "output_type": "stream",
     "text": [
      "2\n"
     ]
    },
    {
     "data": {
      "text/plain": [
       "\u001b[36mp2\u001b[39m: \u001b[32mPoint\u001b[39m = ammonite.$sess.cmd5$Helper$Point@165862da"
      ]
     },
     "execution_count": 7,
     "metadata": {},
     "output_type": "execute_result"
    }
   ],
   "source": [
    "val p2 = new Point(y = 2)\n",
    "println(p2.y)  "
   ]
  },
  {
   "cell_type": "code",
   "execution_count": 8,
   "metadata": {},
   "outputs": [
    {
     "data": {
      "text/plain": [
       "defined \u001b[32mclass\u001b[39m \u001b[36mPoint\u001b[39m"
      ]
     },
     "execution_count": 8,
     "metadata": {},
     "output_type": "execute_result"
    }
   ],
   "source": [
    "class Point(var x: Int = 0, var y: Int = 0) {\n",
    "\n",
    "  def move(dx: Int, dy: Int): Unit = {\n",
    "    x = x + dx\n",
    "    y = y + dy\n",
    "  }\n",
    "\n",
    "  override def toString: String =\n",
    "    s\"($x, $y)\"\n",
    "}"
   ]
  },
  {
   "cell_type": "code",
   "execution_count": 9,
   "metadata": {},
   "outputs": [
    {
     "data": {
      "text/plain": [
       "\u001b[36mp0\u001b[39m: \u001b[32mPoint\u001b[39m = (0, 0)\n",
       "\u001b[36mp1\u001b[39m: \u001b[32mPoint\u001b[39m = (1, 0)\n",
       "\u001b[36mp2\u001b[39m: \u001b[32mPoint\u001b[39m = (2, 6)"
      ]
     },
     "execution_count": 9,
     "metadata": {},
     "output_type": "execute_result"
    }
   ],
   "source": [
    "val p0 = new Point\n",
    "val p1 = new Point(1)\n",
    "val p2 = new Point(2,6)"
   ]
  },
  {
   "cell_type": "code",
   "execution_count": 10,
   "metadata": {},
   "outputs": [],
   "source": [
    "p2.move(1,0)"
   ]
  },
  {
   "cell_type": "code",
   "execution_count": 11,
   "metadata": {},
   "outputs": [
    {
     "name": "stdout",
     "output_type": "stream",
     "text": [
      "(3, 6)\n"
     ]
    }
   ],
   "source": [
    "println(p2)"
   ]
  },
  {
   "cell_type": "markdown",
   "metadata": {},
   "source": [
    "### Membres privates et Getter/Setter"
   ]
  },
  {
   "cell_type": "markdown",
   "metadata": {},
   "source": [
    "Les données membres _x et _y ne sont accessibles qu'appartir du getteur et du setteur"
   ]
  },
  {
   "cell_type": "code",
   "execution_count": 12,
   "metadata": {},
   "outputs": [
    {
     "data": {
      "text/plain": [
       "defined \u001b[32mclass\u001b[39m \u001b[36mPoint\u001b[39m"
      ]
     },
     "execution_count": 12,
     "metadata": {},
     "output_type": "execute_result"
    }
   ],
   "source": [
    "class Point {\n",
    "  private var _x = 0\n",
    "  private var _y = 0\n",
    "  private val bound = 100\n",
    "  \n",
    "  // getteur \n",
    "  def x = _x\n",
    "  // setteur\n",
    "  def x_= (newValue: Int): Unit = {\n",
    "    if (newValue < bound) _x = newValue else printWarning\n",
    "  }\n",
    "\n",
    "  def y = _y\n",
    "  def y_= (newValue: Int): Unit = {\n",
    "    if (newValue < bound) _y = newValue else printWarning\n",
    "  }\n",
    "\n",
    "  private def printWarning = println(\"WARNING: Out of bounds\")\n",
    "\n",
    "  override def toString: String =\n",
    "    s\"($x, $y)\"\n",
    "}"
   ]
  },
  {
   "cell_type": "markdown",
   "metadata": {},
   "source": [
    "Dans cette classe, il n y a pas de constructeur explicite, c'est le constructeur par defaut qui est appelé"
   ]
  },
  {
   "cell_type": "code",
   "execution_count": 13,
   "metadata": {},
   "outputs": [
    {
     "data": {
      "text/plain": [
       "\u001b[36mp0\u001b[39m: \u001b[32mPoint\u001b[39m = (0, 0)"
      ]
     },
     "execution_count": 13,
     "metadata": {},
     "output_type": "execute_result"
    }
   ],
   "source": [
    "val p0 = new Point"
   ]
  },
  {
   "cell_type": "code",
   "execution_count": 14,
   "metadata": {},
   "outputs": [],
   "source": [
    "// Le setteur est appliqué\n",
    "p0.x = 1\n",
    "p0.y = 5"
   ]
  },
  {
   "cell_type": "code",
   "execution_count": 15,
   "metadata": {},
   "outputs": [
    {
     "data": {
      "text/plain": [
       "\u001b[36mres14\u001b[39m: \u001b[32mInt\u001b[39m = \u001b[32m1\u001b[39m"
      ]
     },
     "execution_count": 15,
     "metadata": {},
     "output_type": "execute_result"
    }
   ],
   "source": [
    "// Le getteur est appliqué\n",
    "p0.x"
   ]
  },
  {
   "cell_type": "code",
   "execution_count": 16,
   "metadata": {},
   "outputs": [
    {
     "name": "stdout",
     "output_type": "stream",
     "text": [
      "(1, 5)\n"
     ]
    }
   ],
   "source": [
    "println(p0)"
   ]
  },
  {
   "cell_type": "markdown",
   "metadata": {},
   "source": [
    "**Erreur de compilation**: Constructeur non-défini"
   ]
  },
  {
   "cell_type": "code",
   "execution_count": 16,
   "metadata": {},
   "outputs": [
    {
     "name": "stderr",
     "output_type": "stream",
     "text": [
      "cmd16.sc:1: no arguments allowed for nullary constructor Point: (): cmd16.this.cmd11.Point\n",
      "val p1 = new Point(1,1)\n",
      "                   ^Compilation Failed"
     ]
    },
    {
     "ename": "",
     "evalue": "",
     "output_type": "error",
     "traceback": [
      "Compilation Failed"
     ]
    }
   ],
   "source": [
    "val p1 = new Point(1,1)"
   ]
  },
  {
   "cell_type": "code",
   "execution_count": null,
   "metadata": {},
   "outputs": [],
   "source": [
    "val p2 = new Point\n",
    "p2.x = 54\n",
    "p2.y = 101 "
   ]
  },
  {
   "cell_type": "markdown",
   "metadata": {},
   "source": [
    "### Accés Publiques/privates \n",
    "Les parametres du constructeur sont public avec **var** ou **val**. Cependant, **val** ne permet pas de modifier la variable (immutable)."
   ]
  },
  {
   "cell_type": "code",
   "execution_count": 17,
   "metadata": {},
   "outputs": [
    {
     "data": {
      "text/plain": [
       "defined \u001b[32mclass\u001b[39m \u001b[36mPoint\u001b[39m"
      ]
     },
     "execution_count": 17,
     "metadata": {},
     "output_type": "execute_result"
    }
   ],
   "source": [
    "class Point(val x: Int, var y: Int)"
   ]
  },
  {
   "cell_type": "code",
   "execution_count": 18,
   "metadata": {},
   "outputs": [
    {
     "data": {
      "text/plain": [
       "\u001b[36mp\u001b[39m: \u001b[32mPoint\u001b[39m = ammonite.$sess.cmd16$Helper$Point@511ab7fd"
      ]
     },
     "execution_count": 18,
     "metadata": {},
     "output_type": "execute_result"
    }
   ],
   "source": [
    "val p = new Point(1, 2)"
   ]
  },
  {
   "cell_type": "code",
   "execution_count": 19,
   "metadata": {},
   "outputs": [],
   "source": [
    "p.y = 5  // modifiable à cause de mot-clé var"
   ]
  },
  {
   "cell_type": "code",
   "execution_count": 19,
   "metadata": {},
   "outputs": [
    {
     "name": "stderr",
     "output_type": "stream",
     "text": [
      "cmd19.sc:1: reassignment to val\n",
      "val res19 = p.x = 3  // non modifiable puisqu'il est défini avec val\n",
      "                ^Compilation Failed"
     ]
    },
    {
     "ename": "",
     "evalue": "",
     "output_type": "error",
     "traceback": [
      "Compilation Failed"
     ]
    }
   ],
   "source": [
    "p.x = 3  // non modifiable puisqu'il est défini avec val"
   ]
  },
  {
   "cell_type": "markdown",
   "metadata": {},
   "source": [
    "**Attention** Si le constructeur est déclaré sans **val** ou **var**, les paramètres son privates."
   ]
  },
  {
   "cell_type": "code",
   "execution_count": 20,
   "metadata": {},
   "outputs": [
    {
     "data": {
      "text/plain": [
       "defined \u001b[32mclass\u001b[39m \u001b[36mPoint\u001b[39m\n",
       "\u001b[36mpoint\u001b[39m: \u001b[32mPoint\u001b[39m = ammonite.$sess.cmd19$Helper$Point@71d549d"
      ]
     },
     "execution_count": 20,
     "metadata": {},
     "output_type": "execute_result"
    }
   ],
   "source": [
    "class Point(x: Int, y: Int)\n",
    "val point = new Point(1, 2)"
   ]
  },
  {
   "cell_type": "markdown",
   "metadata": {},
   "source": [
    "Nous ne pouvons pas accéder à cette variable parcequ'il est private"
   ]
  },
  {
   "cell_type": "code",
   "execution_count": 20,
   "metadata": {},
   "outputs": [
    {
     "name": "stderr",
     "output_type": "stream",
     "text": [
      "cmd20.sc:1: value x is not a member of cmd20.this.cmd19.Point\n",
      "val res20 = point.x\n",
      "                  ^Compilation Failed"
     ]
    },
    {
     "ename": "",
     "evalue": "",
     "output_type": "error",
     "traceback": [
      "Compilation Failed"
     ]
    }
   ],
   "source": [
    "point.x"
   ]
  },
  {
   "cell_type": "markdown",
   "metadata": {},
   "source": [
    "### Classe rationnelle"
   ]
  },
  {
   "cell_type": "code",
   "execution_count": 21,
   "metadata": {},
   "outputs": [
    {
     "data": {
      "text/plain": [
       "defined \u001b[32mclass\u001b[39m \u001b[36mRational\u001b[39m"
      ]
     },
     "execution_count": 21,
     "metadata": {},
     "output_type": "execute_result"
    }
   ],
   "source": [
    "class Rational(x: Int, y : Int){\n",
    "     \n",
    "    require(y!=0, \"Denominator must be nonzero\")\n",
    "    // Definition d'un constructur à partir du premier constructeur\n",
    "    \n",
    "    def this(x: Int) = this(x,1)\n",
    "    \n",
    "    // cacul du pgcd de deux nombre\n",
    "    private  def gcd(a:Int, b: Int): Int = if (b==0) a else gcd(b, a%b)\n",
    "    \n",
    "    val g =gcd(x,y)\n",
    "  \n",
    "    def numer = x / g\n",
    "    \n",
    "    def denom = y / g\n",
    "\n",
    "    def + (that : Rational) = new Rational(numer * that.denom + denom * that.numer,\n",
    "          denom * that.denom)\n",
    "  \n",
    "    def unary_- : Rational = new Rational(-numer, denom)\n",
    "    \n",
    "    def - (that: Rational) = this + -that\n",
    "    \n",
    "    def < (that: Rational) = this.numer * that.denom < that.numer * this.denom\n",
    "    \n",
    "    def > (that: Rational) = that < this\n",
    "    \n",
    "    def <= (that: Rational) = (this < that) || (this == that)\n",
    "    \n",
    "    def >= (that: Rational) = (this > that) || (this == that)\n",
    "  \n",
    "    def max(that : Rational) = if(this < that) that else this\n",
    "    \n",
    "    \n",
    "    override def toString: String = x + \"/\" + y\n",
    "}"
   ]
  },
  {
   "cell_type": "code",
   "execution_count": 22,
   "metadata": {},
   "outputs": [
    {
     "data": {
      "text/plain": [
       "\u001b[36ma\u001b[39m: \u001b[32mRational\u001b[39m = 2/1"
      ]
     },
     "execution_count": 22,
     "metadata": {},
     "output_type": "execute_result"
    }
   ],
   "source": [
    "val a = new Rational(2)"
   ]
  },
  {
   "cell_type": "code",
   "execution_count": 23,
   "metadata": {},
   "outputs": [
    {
     "data": {
      "text/plain": [
       "\u001b[36mr\u001b[39m: \u001b[32mRational\u001b[39m = 1/2\n",
       "\u001b[36mq\u001b[39m: \u001b[32mRational\u001b[39m = 2/3\n",
       "\u001b[36mz\u001b[39m: \u001b[32mRational\u001b[39m = 7/8"
      ]
     },
     "execution_count": 23,
     "metadata": {},
     "output_type": "execute_result"
    }
   ],
   "source": [
    "val r = new Rational(1, 2)\n",
    "val q = new Rational (2,3)\n",
    "val z = new Rational(7, 8)"
   ]
  },
  {
   "cell_type": "code",
   "execution_count": 24,
   "metadata": {},
   "outputs": [
    {
     "data": {
      "text/plain": [
       "\u001b[36mres23\u001b[39m: \u001b[32mRational\u001b[39m = 5/2"
      ]
     },
     "execution_count": 24,
     "metadata": {},
     "output_type": "execute_result"
    }
   ],
   "source": [
    "a + r"
   ]
  },
  {
   "cell_type": "code",
   "execution_count": 25,
   "metadata": {},
   "outputs": [
    {
     "data": {
      "text/plain": [
       "\u001b[36mres24\u001b[39m: \u001b[32mRational\u001b[39m = -7/24"
      ]
     },
     "execution_count": 25,
     "metadata": {},
     "output_type": "execute_result"
    }
   ],
   "source": [
    "z - r - q"
   ]
  },
  {
   "cell_type": "code",
   "execution_count": 26,
   "metadata": {},
   "outputs": [
    {
     "data": {
      "text/plain": [
       "\u001b[36mb\u001b[39m: \u001b[32mRational\u001b[39m = 10/-16"
      ]
     },
     "execution_count": 26,
     "metadata": {},
     "output_type": "execute_result"
    }
   ],
   "source": [
    "val b = z - a + r"
   ]
  },
  {
   "cell_type": "code",
   "execution_count": 27,
   "metadata": {},
   "outputs": [
    {
     "data": {
      "text/plain": [
       "\u001b[36mres26\u001b[39m: \u001b[32mRational\u001b[39m = 2/3"
      ]
     },
     "execution_count": 27,
     "metadata": {},
     "output_type": "execute_result"
    }
   ],
   "source": [
    "r.max(q)"
   ]
  },
  {
   "cell_type": "markdown",
   "metadata": {},
   "source": [
    "## Exercice 1 (A Rendre)\n",
    "\n",
    "S'inspirer vous de la classe Rationnel pour définir une classe Vecteur2D en sursargeant les operateurs :  \n",
    " * \\+ : pour faire la somme de deux vecteurs \n",
    " * \\- : pour faire la soustraction de deux vecteurs\n",
    " * \\* : le produit scalaire de deux vecteurs \n",
    " * == pour verifier l'ègalité de deux vecteurs  \n",
    " \n",
    "En definissant les methodes :  \n",
    " * norm : pour calculer la norme d'un vecteur\n",
    " * dist : pour calculer la distance entre deux vecteur\n",
    " "
   ]
  },
  {
   "cell_type": "markdown",
   "metadata": {},
   "source": [
    "### case class"
   ]
  },
  {
   "cell_type": "markdown",
   "metadata": {},
   "source": [
    "**case class** est utilisé pour representé souvent des structures de données complexes."
   ]
  },
  {
   "cell_type": "code",
   "execution_count": 28,
   "metadata": {},
   "outputs": [
    {
     "data": {
      "text/plain": [
       "defined \u001b[32mclass\u001b[39m \u001b[36mBook\u001b[39m\n",
       "\u001b[36msparkbook\u001b[39m: \u001b[32mBook\u001b[39m = \u001b[33mBook\u001b[39m(\u001b[32m\"978-0486282114\"\u001b[39m)"
      ]
     },
     "execution_count": 28,
     "metadata": {},
     "output_type": "execute_result"
    }
   ],
   "source": [
    "case class Book(isbn: String)\n",
    "val sparkbook = Book(\"978-0486282114\")"
   ]
  },
  {
   "cell_type": "code",
   "execution_count": 29,
   "metadata": {},
   "outputs": [
    {
     "name": "stdout",
     "output_type": "stream",
     "text": [
      "guillaume@quebec.ca\n"
     ]
    },
    {
     "data": {
      "text/plain": [
       "defined \u001b[32mclass\u001b[39m \u001b[36mMessage\u001b[39m\n",
       "\u001b[36mmessage1\u001b[39m: \u001b[32mMessage\u001b[39m = \u001b[33mMessage\u001b[39m(\n",
       "  \u001b[32m\"guillaume@quebec.ca\"\u001b[39m,\n",
       "  \u001b[32m\"jorge@catalonia.es\"\u001b[39m,\n",
       "  \u001b[32m\"Ca va ?\"\u001b[39m\n",
       ")"
      ]
     },
     "execution_count": 29,
     "metadata": {},
     "output_type": "execute_result"
    }
   ],
   "source": [
    "case class Message(sender: String, recipient: String, body: String)\n",
    "val message1 = Message(\"guillaume@quebec.ca\", \"jorge@catalonia.es\", \"Ca va ?\")\n",
    "\n",
    "println(message1.sender)  "
   ]
  },
  {
   "cell_type": "code",
   "execution_count": 29,
   "metadata": {},
   "outputs": [
    {
     "name": "stderr",
     "output_type": "stream",
     "text": [
      "cmd29.sc:1: reassignment to val\n",
      "val res29 = message1.sender = \"travis@washington.us\"\n",
      "                            ^Compilation Failed"
     ]
    },
    {
     "ename": "",
     "evalue": "",
     "output_type": "error",
     "traceback": [
      "Compilation Failed"
     ]
    }
   ],
   "source": [
    "message1.sender = \"travis@washington.us\""
   ]
  },
  {
   "cell_type": "code",
   "execution_count": null,
   "metadata": {},
   "outputs": [],
   "source": [
    "val message2 = Message(\"jorge@catalonia.es\", \"guillaume@quebec.ca\", \"Com va?\")\n",
    "val message3 = Message(\"jorge@catalonia.es\", \"guillaume@quebec.ca\", \"Com va?\")\n",
    "message2 == message3 "
   ]
  },
  {
   "cell_type": "code",
   "execution_count": 29,
   "metadata": {},
   "outputs": [],
   "source": [
    "//..."
   ]
  },
  {
   "cell_type": "markdown",
   "metadata": {},
   "source": [
    "### Heritage"
   ]
  },
  {
   "cell_type": "code",
   "execution_count": 1,
   "metadata": {},
   "outputs": [
    {
     "data": {
      "text/plain": [
       "Intitializing Scala interpreter ..."
      ]
     },
     "metadata": {},
     "output_type": "display_data"
    },
    {
     "data": {
      "text/plain": [
       "Spark Web UI available at http://192.168.52.128:4040\n",
       "SparkContext available as 'sc' (version = 3.0.1, master = local[*], app id = local-1608197363434)\n",
       "SparkSession available as 'spark'\n"
      ]
     },
     "metadata": {},
     "output_type": "display_data"
    },
    {
     "data": {
      "text/plain": [
       "defined class Animal\n"
      ]
     },
     "execution_count": 1,
     "metadata": {},
     "output_type": "execute_result"
    }
   ],
   "source": [
    "\n",
    "class Animal (var name: String, var age: Int) {\n",
    "    // (2) auxiliary constructor\n",
    "    def this (name: String) {\n",
    "        this(name, 0)\n",
    "    }\n",
    "    \n",
    "    override def toString = s\"$name is $age years old\"\n",
    "}\n"
   ]
  },
  {
   "cell_type": "code",
   "execution_count": 31,
   "metadata": {},
   "outputs": [
    {
     "data": {
      "text/plain": [
       "defined \u001b[32mclass\u001b[39m \u001b[36mDog\u001b[39m"
      ]
     },
     "execution_count": 31,
     "metadata": {},
     "output_type": "execute_result"
    }
   ],
   "source": [
    "class Dog (name: String) extends Animal (name) {\n",
    "    println(\"Dog constructor called\")\n",
    "}"
   ]
  },
  {
   "cell_type": "code",
   "execution_count": 32,
   "metadata": {},
   "outputs": [
    {
     "data": {
      "text/plain": [
       "\u001b[36man\u001b[39m: \u001b[32mAnimal\u001b[39m = Bobby is 2 years old"
      ]
     },
     "execution_count": 32,
     "metadata": {},
     "output_type": "execute_result"
    }
   ],
   "source": [
    "val an = new Animal(\"Bobby\", 2) "
   ]
  },
  {
   "cell_type": "code",
   "execution_count": 33,
   "metadata": {},
   "outputs": [
    {
     "name": "stdout",
     "output_type": "stream",
     "text": [
      "Dog constructor called\n"
     ]
    },
    {
     "data": {
      "text/plain": [
       "\u001b[36mdog\u001b[39m: \u001b[32mDog\u001b[39m = Bobby is 0 years old"
      ]
     },
     "execution_count": 33,
     "metadata": {},
     "output_type": "execute_result"
    }
   ],
   "source": [
    "val dog = new Dog(\"Bobby\")"
   ]
  },
  {
   "cell_type": "code",
   "execution_count": null,
   "metadata": {},
   "outputs": [],
   "source": []
  },
  {
   "cell_type": "markdown",
   "metadata": {},
   "source": [
    "### Traits\n",
    "\n",
    "Trait est très similaire à la notion d'interface dans Java, à la seul difference qu'il peut contenir des methods concrètes."
   ]
  },
  {
   "cell_type": "code",
   "execution_count": 2,
   "metadata": {},
   "outputs": [
    {
     "data": {
      "text/plain": [
       "defined trait Figure\n"
      ]
     },
     "execution_count": 2,
     "metadata": {},
     "output_type": "execute_result"
    }
   ],
   "source": [
    "trait Figure{\n",
    "    def calculerPerimetre(): Double\n",
    "    def calculerSurface(): Double\n",
    "}"
   ]
  },
  {
   "cell_type": "code",
   "execution_count": 4,
   "metadata": {},
   "outputs": [
    {
     "data": {
      "text/plain": [
       "defined class Rectangle\n"
      ]
     },
     "execution_count": 4,
     "metadata": {},
     "output_type": "execute_result"
    }
   ],
   "source": [
    "class Rectangle(var longueur: Double, var largeur: Double) extends Figure{\n",
    "    def calculerPerimetre = (longueur + largeur)*2\n",
    "    def calculerSurface = longueur * largeur\n",
    "}"
   ]
  },
  {
   "cell_type": "code",
   "execution_count": 34,
   "metadata": {},
   "outputs": [
    {
     "data": {
      "text/plain": [
       "defined \u001b[32mtrait\u001b[39m \u001b[36mIterator\u001b[39m"
      ]
     },
     "execution_count": 34,
     "metadata": {},
     "output_type": "execute_result"
    }
   ],
   "source": [
    "trait Iterator[A] {\n",
    "  def hasNext: Boolean\n",
    "  def next(): A\n",
    "}"
   ]
  },
  {
   "cell_type": "code",
   "execution_count": 35,
   "metadata": {},
   "outputs": [
    {
     "data": {
      "text/plain": [
       "defined \u001b[32mclass\u001b[39m \u001b[36mIntIterator\u001b[39m"
      ]
     },
     "execution_count": 35,
     "metadata": {},
     "output_type": "execute_result"
    }
   ],
   "source": [
    "class IntIterator(to: Int) extends Iterator[Int] {\n",
    "  private var current = 0\n",
    "  override def hasNext: Boolean = current < to\n",
    "  override def next(): Int = {\n",
    "    if (hasNext) {\n",
    "      val t = current\n",
    "      current += 1\n",
    "      t\n",
    "    } else 0\n",
    "  }\n",
    "}"
   ]
  },
  {
   "cell_type": "code",
   "execution_count": 36,
   "metadata": {},
   "outputs": [
    {
     "data": {
      "text/plain": [
       "\u001b[36miterator\u001b[39m: \u001b[32mIntIterator\u001b[39m = ammonite.$sess.cmd34$Helper$IntIterator@2fdd540c\n",
       "\u001b[36mres35_1\u001b[39m: \u001b[32mInt\u001b[39m = \u001b[32m0\u001b[39m"
      ]
     },
     "execution_count": 36,
     "metadata": {},
     "output_type": "execute_result"
    }
   ],
   "source": [
    "val iterator = new IntIterator(10)\n",
    "iterator.next()"
   ]
  },
  {
   "cell_type": "code",
   "execution_count": 37,
   "metadata": {},
   "outputs": [
    {
     "data": {
      "text/plain": [
       "\u001b[36mres36\u001b[39m: \u001b[32mInt\u001b[39m = \u001b[32m1\u001b[39m"
      ]
     },
     "execution_count": 37,
     "metadata": {},
     "output_type": "execute_result"
    }
   ],
   "source": [
    "iterator.next()  "
   ]
  },
  {
   "cell_type": "code",
   "execution_count": 38,
   "metadata": {},
   "outputs": [
    {
     "data": {
      "text/plain": [
       "\u001b[36mres37\u001b[39m: \u001b[32mBoolean\u001b[39m = true"
      ]
     },
     "execution_count": 38,
     "metadata": {},
     "output_type": "execute_result"
    }
   ],
   "source": [
    "iterator.hasNext"
   ]
  },
  {
   "cell_type": "code",
   "execution_count": 39,
   "metadata": {},
   "outputs": [
    {
     "data": {
      "text/plain": [
       "defined \u001b[32mclass\u001b[39m \u001b[36mPoint\u001b[39m\n",
       "defined \u001b[32mtrait\u001b[39m \u001b[36mRectangular\u001b[39m"
      ]
     },
     "execution_count": 39,
     "metadata": {},
     "output_type": "execute_result"
    }
   ],
   "source": [
    "class Point(val x: Int, val y: Int)\n",
    "\n",
    "trait Rectangular {\n",
    "    def topLeft: Point\n",
    "    def bottomRight: Point\n",
    "    def left = topLeft.x\n",
    "    def right = bottomRight.x\n",
    "    def width = right - left\n",
    "    // autres methodes ...\n",
    "}"
   ]
  },
  {
   "cell_type": "code",
   "execution_count": 40,
   "metadata": {},
   "outputs": [
    {
     "data": {
      "text/plain": [
       "defined \u001b[32mclass\u001b[39m \u001b[36mRectangle\u001b[39m"
      ]
     },
     "execution_count": 40,
     "metadata": {},
     "output_type": "execute_result"
    }
   ],
   "source": [
    "class Rectangle(val topLeft: Point, val bottomRight: Point) extends Rectangular {\n",
    "    // autres methods\n",
    "}"
   ]
  },
  {
   "cell_type": "code",
   "execution_count": 41,
   "metadata": {},
   "outputs": [
    {
     "data": {
      "text/plain": [
       "\u001b[36mrect\u001b[39m: \u001b[32mRectangle\u001b[39m = ammonite.$sess.cmd39$Helper$Rectangle@284406a6"
      ]
     },
     "execution_count": 41,
     "metadata": {},
     "output_type": "execute_result"
    }
   ],
   "source": [
    "val rect = new Rectangle(new Point(1, 1), new Point(10, 10))"
   ]
  },
  {
   "cell_type": "code",
   "execution_count": 42,
   "metadata": {},
   "outputs": [
    {
     "data": {
      "text/plain": [
       "\u001b[36mres41\u001b[39m: \u001b[32mInt\u001b[39m = \u001b[32m1\u001b[39m"
      ]
     },
     "execution_count": 42,
     "metadata": {},
     "output_type": "execute_result"
    }
   ],
   "source": [
    "rect.left"
   ]
  },
  {
   "cell_type": "code",
   "execution_count": 43,
   "metadata": {},
   "outputs": [
    {
     "data": {
      "text/plain": [
       "\u001b[36mres42\u001b[39m: \u001b[32mInt\u001b[39m = \u001b[32m10\u001b[39m"
      ]
     },
     "execution_count": 43,
     "metadata": {},
     "output_type": "execute_result"
    }
   ],
   "source": [
    "rect.right"
   ]
  },
  {
   "cell_type": "code",
   "execution_count": 44,
   "metadata": {},
   "outputs": [
    {
     "data": {
      "text/plain": [
       "\u001b[36mres43\u001b[39m: \u001b[32mInt\u001b[39m = \u001b[32m9\u001b[39m"
      ]
     },
     "execution_count": 44,
     "metadata": {},
     "output_type": "execute_result"
    }
   ],
   "source": [
    "rect.width"
   ]
  },
  {
   "cell_type": "markdown",
   "metadata": {},
   "source": [
    "### Abstract class"
   ]
  },
  {
   "cell_type": "markdown",
   "metadata": {},
   "source": [
    "Scala a également un concept de **classe abstraite** similaire à la classe abstraite de Java. Mais comme les traits sont si puissants, vous avez rarement besoin d'utiliser une classe abstraite. En fait, vous n'avez besoin d'utiliser une classe abstraite que lorsque:\n",
    "\n",
    "* Vous souhaitez créer une classe de base qui nécessite des arguments de constructeur\n",
    "* Votre code Scala sera appelé à partir du code Java"
   ]
  },
  {
   "cell_type": "code",
   "execution_count": 45,
   "metadata": {},
   "outputs": [
    {
     "data": {
      "text/plain": [
       "defined \u001b[32mclass\u001b[39m \u001b[36mPet\u001b[39m"
      ]
     },
     "execution_count": 45,
     "metadata": {},
     "output_type": "execute_result"
    }
   ],
   "source": [
    "abstract class Pet (name: String) {\n",
    "    val greeting: String\n",
    "    \n",
    "    var age: Int\n",
    "    \n",
    "    def sayHello { \n",
    "        println(greeting) \n",
    "    }\n",
    "    override def toString = s\"I say $greeting, and I'm $age\"\n",
    "}"
   ]
  },
  {
   "cell_type": "code",
   "execution_count": 46,
   "metadata": {},
   "outputs": [
    {
     "data": {
      "text/plain": [
       "defined \u001b[32mclass\u001b[39m \u001b[36mDog\u001b[39m\n",
       "defined \u001b[32mclass\u001b[39m \u001b[36mCat\u001b[39m"
      ]
     },
     "execution_count": 46,
     "metadata": {},
     "output_type": "execute_result"
    }
   ],
   "source": [
    "class Dog (name: String) extends Pet (name) {\n",
    "    val greeting = \"Woof\"\n",
    "    var age = 2\n",
    "}\n",
    "class Cat (name: String) extends Pet (name) {\n",
    "    val greeting = \"Meow\"\n",
    "    var age = 5\n",
    "}"
   ]
  },
  {
   "cell_type": "code",
   "execution_count": 47,
   "metadata": {},
   "outputs": [
    {
     "name": "stdout",
     "output_type": "stream",
     "text": [
      "Woof\n",
      "Meow\n"
     ]
    },
    {
     "data": {
      "text/plain": [
       "\u001b[36mdog\u001b[39m: \u001b[32mDog\u001b[39m = I say Woof, and I'm 2\n",
       "\u001b[36mcat\u001b[39m: \u001b[32mCat\u001b[39m = I say Meow, and I'm 5"
      ]
     },
     "execution_count": 47,
     "metadata": {},
     "output_type": "execute_result"
    }
   ],
   "source": [
    "val dog = new Dog(\"Fido\")\n",
    "\n",
    "val cat = new Cat(\"Morris\")\n",
    "\n",
    "dog.sayHello\n",
    "\n",
    "cat.sayHello\n",
    "    "
   ]
  },
  {
   "cell_type": "code",
   "execution_count": 48,
   "metadata": {},
   "outputs": [
    {
     "name": "stdout",
     "output_type": "stream",
     "text": [
      "I say Woof, and I'm 2\n",
      "I say Meow, and I'm 5\n",
      "I say Meow, and I'm 10\n"
     ]
    }
   ],
   "source": [
    "println(dog)\n",
    "\n",
    "println(cat)\n",
    "\n",
    "cat.age = 10\n",
    "\n",
    "println(cat)"
   ]
  },
  {
   "cell_type": "markdown",
   "metadata": {},
   "source": [
    "### Exemple"
   ]
  },
  {
   "cell_type": "code",
   "execution_count": 1,
   "metadata": {},
   "outputs": [
    {
     "data": {
      "text/plain": [
       "Intitializing Scala interpreter ..."
      ]
     },
     "metadata": {},
     "output_type": "display_data"
    },
    {
     "data": {
      "text/plain": [
       "Spark Web UI available at http://192.168.52.128:4040\n",
       "SparkContext available as 'sc' (version = 3.0.1, master = local[*], app id = local-1608669831634)\n",
       "SparkSession available as 'spark'\n"
      ]
     },
     "metadata": {},
     "output_type": "display_data"
    },
    {
     "data": {
      "text/plain": [
       "defined class IntSet\n"
      ]
     },
     "execution_count": 1,
     "metadata": {},
     "output_type": "execute_result"
    }
   ],
   "source": [
    "// Definition d'un ensemble à partir de ces propriétés\n",
    "abstract class IntSet {\n",
    "    \n",
    "  def contains(x : Int) : Boolean\n",
    "    \n",
    "  def incl(x: Int) : IntSet\n",
    "    \n",
    "  def union(other : IntSet) : IntSet\n",
    "}"
   ]
  },
  {
   "cell_type": "code",
   "execution_count": 2,
   "metadata": {},
   "outputs": [
    {
     "data": {
      "text/plain": [
       "defined class NonEmpty\n"
      ]
     },
     "execution_count": 2,
     "metadata": {},
     "output_type": "execute_result"
    }
   ],
   "source": [
    "class NonEmpty (elem: Int, left: IntSet,\n",
    "                right: IntSet ) extends IntSet {\n",
    "    \n",
    "  def contains(x: Int): Boolean =\n",
    "        if (x < elem) left contains x\n",
    "        else if (x > elem) right contains x\n",
    "        else true\n",
    "\n",
    "  def incl(x: Int): IntSet =\n",
    "        if(x < elem) new NonEmpty(elem, left incl x,  right)\n",
    "        else if (x > elem) new NonEmpty(elem, left, right incl x )\n",
    "        else this\n",
    "\n",
    "  override def union(other: IntSet): IntSet =\n",
    "    ((left union right) union other) incl elem\n",
    "  \n",
    "  override def toString: String =\n",
    "    \"{\" + left + elem + right + \"}\"\n",
    "}"
   ]
  },
  {
   "cell_type": "code",
   "execution_count": 3,
   "metadata": {},
   "outputs": [
    {
     "data": {
      "text/plain": [
       "defined class Empty\n"
      ]
     },
     "execution_count": 3,
     "metadata": {},
     "output_type": "execute_result"
    }
   ],
   "source": [
    "class Empty extends IntSet  {\n",
    "    \n",
    "  def contains(x :Int) : Boolean= false\n",
    "    \n",
    "  def incl(x: Int) : IntSet = new NonEmpty (x, new Empty, new Empty)\n",
    "    \n",
    "  def union(other : IntSet) = other\n",
    "    \n",
    "  override def toString: String = \".\"\n",
    "    \n",
    "}"
   ]
  },
  {
   "cell_type": "code",
   "execution_count": 4,
   "metadata": {},
   "outputs": [
    {
     "data": {
      "text/plain": [
       "t1: NonEmpty = {.1.}\n"
      ]
     },
     "execution_count": 4,
     "metadata": {},
     "output_type": "execute_result"
    }
   ],
   "source": [
    "val t1  = new NonEmpty(1, new Empty, new Empty)"
   ]
  },
  {
   "cell_type": "code",
   "execution_count": 53,
   "metadata": {},
   "outputs": [
    {
     "data": {
      "text/plain": [
       "\u001b[36mt2\u001b[39m: \u001b[32mIntSet\u001b[39m = {.1{.3.}}"
      ]
     },
     "execution_count": 53,
     "metadata": {},
     "output_type": "execute_result"
    }
   ],
   "source": [
    "val t2 = t1 incl 3"
   ]
  },
  {
   "cell_type": "code",
   "execution_count": 54,
   "metadata": {},
   "outputs": [
    {
     "data": {
      "text/plain": [
       "\u001b[36mres53\u001b[39m: \u001b[32mBoolean\u001b[39m = false"
      ]
     },
     "execution_count": 54,
     "metadata": {},
     "output_type": "execute_result"
    }
   ],
   "source": [
    " t2 contains 2"
   ]
  },
  {
   "cell_type": "code",
   "execution_count": 55,
   "metadata": {},
   "outputs": [
    {
     "data": {
      "text/plain": [
       "\u001b[36mres54\u001b[39m: \u001b[32mBoolean\u001b[39m = true"
      ]
     },
     "execution_count": 55,
     "metadata": {},
     "output_type": "execute_result"
    }
   ],
   "source": [
    "t2 contains 3"
   ]
  },
  {
   "cell_type": "code",
   "execution_count": 56,
   "metadata": {},
   "outputs": [
    {
     "data": {
      "text/plain": [
       "\u001b[36mt3\u001b[39m: \u001b[32mIntSet\u001b[39m = {.1{.3{{.4.}9{.15.}}}}"
      ]
     },
     "execution_count": 56,
     "metadata": {},
     "output_type": "execute_result"
    }
   ],
   "source": [
    "val t3 = ((t2 incl 9) incl 4) incl 15"
   ]
  },
  {
   "cell_type": "code",
   "execution_count": 57,
   "metadata": {},
   "outputs": [
    {
     "data": {
      "text/plain": [
       "\u001b[36mt4\u001b[39m: \u001b[32mIntSet\u001b[39m = {.1{.2{.7.}}}"
      ]
     },
     "execution_count": 57,
     "metadata": {},
     "output_type": "execute_result"
    }
   ],
   "source": [
    "val t4 = (t1 incl 2) incl 7"
   ]
  },
  {
   "cell_type": "code",
   "execution_count": 58,
   "metadata": {},
   "outputs": [
    {
     "data": {
      "text/plain": [
       "\u001b[36mt5\u001b[39m: \u001b[32mIntSet\u001b[39m = {.1{.2{{{.3.}4.}7{{.9.}15.}}}}"
      ]
     },
     "execution_count": 58,
     "metadata": {},
     "output_type": "execute_result"
    }
   ],
   "source": [
    "val t5 = t3 union t4"
   ]
  },
  {
   "cell_type": "markdown",
   "metadata": {
    "jupyter": {
     "source_hidden": true
    }
   },
   "source": [
    "### Classe générique"
   ]
  },
  {
   "cell_type": "code",
   "execution_count": 12,
   "metadata": {},
   "outputs": [
    {
     "ename": "<console>",
     "evalue": "4: error: identifier expected but '[' found.",
     "output_type": "error",
     "traceback": [
      "<console>:4: error: identifier expected but '[' found.",
      "         def incl(x: [A]): Set[A]",
      "                     ^",
      "<console>:9: error: ')' expected but '}' found.",
      "       }",
      "       ^",
      ""
     ]
    }
   ],
   "source": [
    "abstract class Set[A] {\n",
    "    \n",
    "  def incl(a: [A]): Set[A]\n",
    "  def contains(a: A]: Boolean\n",
    "    \n",
    "  def union(other : Set[A]) : Set[A]\n",
    "    \n",
    "}\n",
    "\n",
    "class Empty[A] extends Set[A] {\n",
    "  override def incl(x: Int): Set[A] = new NonEmpty(x, new Empty, new Empty)\n",
    "\n",
    "  override def contains(x: Int): Boolean = false \n",
    "    \n",
    "  override def toString: String = \".\"\n",
    "}\n",
    "\n",
    "class NonEmpty[A](elem: A, left: Set[A], right: Set[A]) extends Set[A] {\n",
    "    override def incl(x: Int): Set = \n",
    "    if (x == elem) this \n",
    "    else if (elem > x) new NonEmpty(elem, left.incl(x), right)// immutable! \n",
    "    else new NonEmpty(elem, left, right.incl(x))\n",
    "\n",
    "    override def contains(x: Int): Boolean = \n",
    "    if (elem == x) true \n",
    "    else if (elem > x) left.contains(x) \n",
    "    else right.contains(x) \n",
    "}"
   ]
  },
  {
   "cell_type": "markdown",
   "metadata": {},
   "source": [
    "### Exercice 2 (A Rendre)\n",
    "\n",
    "Reprendre les methodes de la classe Intset dans la classe générique."
   ]
  },
  {
   "cell_type": "markdown",
   "metadata": {},
   "source": [
    "### Package "
   ]
  },
  {
   "cell_type": "markdown",
   "metadata": {},
   "source": [
    "**Importer les classes d'un package Scala**  \n",
    "L'importation des classes en Scala est très similaire à celle de Java."
   ]
  },
  {
   "cell_type": "markdown",
   "metadata": {},
   "source": [
    "Supposons qu'on a un package qui contient les classes Animal, Personne, Voiture."
   ]
  },
  {
   "cell_type": "raw",
   "metadata": {},
   "source": [
    "import com.projectName.scala.Animal\n",
    "import com.projectName.scala.{Animal, Personne, Voiture}\n",
    "import com.projectName.scala._  //_ permet d'importer tous les classes "
   ]
  },
  {
   "cell_type": "markdown",
   "metadata": {},
   "source": [
    "**Importation des classes Java**"
   ]
  },
  {
   "cell_type": "raw",
   "metadata": {},
   "source": [
    "import java.io._\n",
    "import java.io.{File, IOException, FileNotFoundException}\n",
    "import java.io.File\n",
    "import java.io.FileNotFoundException"
   ]
  },
  {
   "cell_type": "markdown",
   "metadata": {},
   "source": [
    "Aliasing pour éviter le conflit des noms"
   ]
  },
  {
   "cell_type": "code",
   "execution_count": 59,
   "metadata": {},
   "outputs": [
    {
     "data": {
      "text/plain": [
       "\u001b[32mimport \u001b[39m\u001b[36mjava.util.{Date => utilDate}\n",
       "\u001b[39m\n",
       "\u001b[32mimport \u001b[39m\u001b[36mjava.sql.{Date => sqlDate}\u001b[39m"
      ]
     },
     "execution_count": 59,
     "metadata": {},
     "output_type": "execute_result"
    }
   ],
   "source": [
    "import java.util.{Date => utilDate}\n",
    "import java.sql.{Date => sqlDate}"
   ]
  },
  {
   "cell_type": "code",
   "execution_count": 60,
   "metadata": {},
   "outputs": [
    {
     "data": {
      "text/plain": [
       "defined \u001b[32mfunction\u001b[39m \u001b[36mrun\u001b[39m"
      ]
     },
     "execution_count": 60,
     "metadata": {},
     "output_type": "execute_result"
    }
   ],
   "source": [
    "def run(): Unit = {\n",
    "              val dt: utilDate = new utilDate()\n",
    "              val dtSql: sqlDate = new sqlDate(System.currentTimeMillis())\n",
    "              println(s\"Today is $dt !\")\n",
    "              println(s\"Today is $dtSql !\")\n",
    "}"
   ]
  },
  {
   "cell_type": "code",
   "execution_count": 61,
   "metadata": {},
   "outputs": [
    {
     "name": "stdout",
     "output_type": "stream",
     "text": [
      "Today is Wed Dec 16 15:39:04 GMT 2020 !\n",
      "Today is 2020-12-16 !\n"
     ]
    }
   ],
   "source": [
    "run()"
   ]
  },
  {
   "cell_type": "markdown",
   "metadata": {},
   "source": [
    "#### Creation de Package  package "
   ]
  },
  {
   "cell_type": "raw",
   "metadata": {},
   "source": [
    "packages// package com.exo \n",
    "\n",
    "class Test {\n",
    "    override def toString = \"Je suis dans le com.exo\"\n",
    "}"
   ]
  },
  {
   "cell_type": "raw",
   "metadata": {},
   "source": [
    "\n",
    "package singlePack {\n",
    "    class Test { \n",
    "        override def toString = \"I am SinglePack.Test\" \n",
    "    }\n",
    "}"
   ]
  },
  {
   "cell_type": "raw",
   "metadata": {},
   "source": [
    "package com.automobile.scala\n",
    "\n",
    "package object packageimport {\n",
    "  trait Motor {\n",
    "    val dieselMessage: String = \"Je roule avec du Diesel, \"\n",
    "    val noDieselMessage: String = \"Pas de Diesel, je suis plus confortable\"\n",
    "  }\n",
    "}"
   ]
  },
  {
   "cell_type": "code",
   "execution_count": 61,
   "metadata": {},
   "outputs": [],
   "source": [
    "// Demo IntelliJ"
   ]
  },
  {
   "cell_type": "markdown",
   "metadata": {},
   "source": [
    "### Interoperabilité avec Java"
   ]
  },
  {
   "cell_type": "code",
   "execution_count": 61,
   "metadata": {},
   "outputs": [],
   "source": [
    "//... Voir Documentation"
   ]
  },
  {
   "cell_type": "markdown",
   "metadata": {},
   "source": [
    "### Travail à faire\n",
    "Faire les exercices 1 et 2 de ce notebook en sous la forme chap2_execice1.scala et hap2_execice1.scala.\n",
    "  \n",
    "N'oublier pas de zipper en mettant votre_nom_master.zip\n"
   ]
  },
  {
   "cell_type": "markdown",
   "metadata": {},
   "source": []
  }
 ],
 "metadata": {
  "kernelspec": {
   "display_name": "spylon-kernel",
   "language": "scala",
   "name": "spylon-kernel"
  },
  "language_info": {
   "codemirror_mode": "text/x-scala",
   "file_extension": ".scala",
   "help_links": [
    {
     "text": "MetaKernel Magics",
     "url": "https://metakernel.readthedocs.io/en/latest/source/README.html"
    }
   ],
   "mimetype": "text/x-scala",
   "name": "scala",
   "pygments_lexer": "scala",
   "version": "0.4.1"
  }
 },
 "nbformat": 4,
 "nbformat_minor": 4
}
