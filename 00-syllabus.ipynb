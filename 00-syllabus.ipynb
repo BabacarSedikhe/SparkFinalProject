{
 "cells": [
  {
   "cell_type": "markdown",
   "metadata": {
    "slideshow": {
     "slide_type": "slide"
    }
   },
   "source": [
    "## Objectifs\n",
    "Dans ce cours nous allons :\n",
    "\n",
    "* Voir les bases de la programmation fonctionnelle en Scala,\n",
    "* Manipuler les concepts avancées de collections, classes, higher-order functions, pattern matching, mapReduce etc.\n",
    "* Developper des programmes paralleles avec Apache Spark pour le pré-traitement des données dans un cluster Hadoop\n",
    "* Chargement, Transformation des données avec Spark Dataframe, SQL et Datasets.\n",
    "* Traitement de données en Streaming\n",
    "* Analyse et prediction en utilisant le Machine Learning (Spark ML)"
   ]
  },
  {
   "cell_type": "markdown",
   "metadata": {
    "slideshow": {
     "slide_type": "slide"
    }
   },
   "source": [
    "## Plan du cours\n",
    "\n",
    "### I. Scala\n",
    "\n",
    "1. Demarrer avec Scala\n",
    "2. Programmation Orienté Objet \n",
    "3. Programmation Fonctionnelle\n",
    "4. Scala APIs: Collections, Lists, Arrays, Map, Set  \n",
    "5. Projet à rendre 1\n"
   ]
  },
  {
   "cell_type": "markdown",
   "metadata": {
    "slideshow": {
     "slide_type": "subslide"
    }
   },
   "source": [
    "### II. Apache Spark\n",
    "\n",
    "1. Introduction \n",
    "2. Resilient Distributed Datasets (RDDs)\n",
    "3. Spark SQL, Dataframes, Datasets\n",
    "4. Spark Streaming \n",
    "5. Spark Machine Learning (MLIB)\n",
    "6. Projet à rendre 2 \n"
   ]
  },
  {
   "cell_type": "markdown",
   "metadata": {
    "slideshow": {
     "slide_type": "slide"
    }
   },
   "source": [
    "## Installation\n",
    "\n",
    "* Scala REPL (https://www.scala-lang.org/download/)\n",
    "* Sbt (https://www.scala-sbt.org/download.html)\n",
    "* IntelliJ (https://www.jetbrains.com/idea/)\n",
    "* Jupyter notebook avec almond (https://almond.sh/)\n",
    "\n",
    "* Apache Spark (https://spark.apache.org/downloads.html)"
   ]
  },
  {
   "cell_type": "markdown",
   "metadata": {
    "slideshow": {
     "slide_type": "slide"
    }
   },
   "source": [
    "## Références :\n",
    "\n",
    "* Programming in Scala, Martin Odersky, Lex Spoon, and Bill Venners,  3rd Edition,  Artima Press, 2016\n",
    "* Scala CookBook,  Alvin Alexander, O'REILLY,  2013\n",
    "* Learning Spark Ligthning-Fast Data Analytics, Jules S. Damji, Brooke Wenig, Tathagata Das and Denny Lee,  O'REILLY Media, 2020\n",
    "* Scala Spark for Big Data Analytics, Md. Rezaul Karim and Sridhar Alla, 2017\n",
    "* Documentation Scala, https://docs.scala-lang.org/\n",
    "* Documentation Spark, https://spark.apache.org/docs/latest/api.html\n",
    "* http://allaboutscala.com/\n",
    "* https://databricks.com/"
   ]
  }
 ],
 "metadata": {
  "celltoolbar": "Slideshow",
  "kernelspec": {
   "display_name": "Python 3",
   "language": "python",
   "name": "python3"
  },
  "language_info": {
   "codemirror_mode": {
    "name": "ipython",
    "version": 3
   },
   "file_extension": ".py",
   "mimetype": "text/x-python",
   "name": "python",
   "nbconvert_exporter": "python",
   "pygments_lexer": "ipython3",
   "version": "3.8.5"
  },
  "rise": {
   "height": "90%",
   "width": "90%"
  }
 },
 "nbformat": 4,
 "nbformat_minor": 4
}
