{
 "cells": [
  {
   "cell_type": "code",
   "execution_count": 1,
   "metadata": {},
   "outputs": [
    {
     "ename": "<console>",
     "evalue": "4: error: illegal start of simple expression",
     "output_type": "error",
     "traceback": [
      "<console>:4: error: illegal start of simple expression",
      "           def somme = sqrt((a*a) + (b*b))",
      "           ^",
      "<console>:7: error: '=' expected but 'if' found.",
      "           def egalite if (a == b) a=b",
      "                       ^",
      "<console>:8: error: illegal start of simple expression",
      "       }",
      "       ^",
      ""
     ]
    }
   ],
   "source": [
    "class Vecteur2D(x: Int, y: Int){\n",
    "    private def norm(a: Int, b: Int): Int = \n",
    "    def somme = sqrt((a*a) + (b*b))\n",
    "    def soustration = sqrt((a*a) - (b*b))\n",
    "    def scalaire = sqrt((a*a) * (b*b))\n",
    "    def egalite if (a == b) a=b\n",
    "}"
   ]
  },
  {
   "cell_type": "code",
   "execution_count": null,
   "metadata": {},
   "outputs": [],
   "source": []
  }
 ],
 "metadata": {
  "kernelspec": {
   "display_name": "spylon-kernel",
   "language": "scala",
   "name": "spylon-kernel"
  },
  "language_info": {
   "codemirror_mode": "text/x-scala",
   "file_extension": ".scala",
   "help_links": [
    {
     "text": "MetaKernel Magics",
     "url": "https://metakernel.readthedocs.io/en/latest/source/README.html"
    }
   ],
   "mimetype": "text/x-scala",
   "name": "scala",
   "pygments_lexer": "scala",
   "version": "0.4.1"
  }
 },
 "nbformat": 4,
 "nbformat_minor": 4
}
